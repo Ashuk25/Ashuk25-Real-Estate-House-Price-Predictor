{
 "cells": [
  {
   "cell_type": "markdown",
   "id": "e0228a67",
   "metadata": {},
   "source": [
    "# Real Estate House Price Prediction"
   ]
  },
  {
   "cell_type": "markdown",
   "id": "2789413a",
   "metadata": {},
   "source": [
    "## Problem Term Down\n",
    "\n",
    "1) We have give dataset of house prices with some features like no. of bathrooms, no. of bedroom, etc.\n",
    "\n",
    "2) Our task is to create a model which will predict the price for any house by looking at features.\n",
    "\n",
    "3) While learning about Machine Learning it is best to actually work with real-world data. not just artificial datasets.\n",
    "\n",
    "4) There are hundreds of open datasets to choose from."
   ]
  },
  {
   "cell_type": "markdown",
   "id": "318a8961",
   "metadata": {},
   "source": [
    "## Getting Started\n",
    "\n",
    "1) The first question i should ask Mr. X is what is the bussinees objective and end goal? How will real estates behefit from the model?\n",
    "\n",
    "2) Mr. X tells me that real estates ill use this model to predict house prices in a given area and will invest in the area if its undervalued.\n",
    "\n",
    "3) Next question i should ask to Mr. X is how does the current solution look like? The answer is - Manual experts who analyze the features.\n",
    "\n",
    "4) The predictions made by so called \" experts\" are not very good (error rate is 25%) that is why real estates PVT LTD is coming to me."
   ]
  },
  {
   "cell_type": "markdown",
   "id": "2e20468e",
   "metadata": {},
   "source": [
    "## Finding The Type Of Model To Build\n",
    "\n",
    "1) Supervised, unsupervised or Reinforcement learning?\n",
    "\n",
    "2) Classification task or Regression task?\n",
    "\n",
    "3) Batch learning or online learning techniques?"
   ]
  },
  {
   "cell_type": "markdown",
   "id": "b158365b",
   "metadata": {},
   "source": [
    " # Selecting a Performance Measure"
   ]
  },
  {
   "cell_type": "markdown",
   "id": "7f437473",
   "metadata": {},
   "source": [
    "1) A typical performance measure for regression problems is the Root Mean Square Error(RMSE). "
   ]
  },
  {
   "cell_type": "markdown",
   "id": "e5ee4071",
   "metadata": {},
   "source": [
    "RMSE(X,h) = root(1/mi*sum(h(x(i)-y(i))2))"
   ]
  },
  {
   "cell_type": "markdown",
   "id": "d60ea741",
   "metadata": {},
   "source": [
    "2) RMSE is generally the preferred performance measure for regression taska, so we choose it for this particular problem we are solving for real estates Pvt. Ltd."
   ]
  },
  {
   "cell_type": "markdown",
   "id": "778fae7b",
   "metadata": {},
   "source": [
    "3) Other performance measures include Mean Absolute Error, Manhattan norm, etc but we will use RMSE for this problem."
   ]
  },
  {
   "cell_type": "markdown",
   "id": "d1c1c762",
   "metadata": {},
   "source": [
    "# Checking The Assumptions"
   ]
  },
  {
   "cell_type": "markdown",
   "id": "4a1b9396",
   "metadata": {},
   "source": [
    "1) It is very important for me to check for any assumptions I might have made and correct them before launching the ml system."
   ]
  },
  {
   "cell_type": "markdown",
   "id": "99bcff6c",
   "metadata": {},
   "source": [
    "2) For example, I should make sure that the team needs the price and not the categories like expensive, cheap, etc."
   ]
  },
  {
   "cell_type": "markdown",
   "id": "fdaa178e",
   "metadata": {},
   "source": [
    "3) If latter is the cases. formulating the problem as a regression task will be counted as a big mistake."
   ]
  },
  {
   "cell_type": "markdown",
   "id": "fb346940",
   "metadata": {},
   "source": [
    "4) I talked to the real estate team members and ensured that they are aware of all the assumptions."
   ]
  },
  {
   "cell_type": "markdown",
   "id": "9b2877c3",
   "metadata": {},
   "source": [
    "# Setup :"
   ]
  },
  {
   "cell_type": "markdown",
   "id": "c0a82b4c",
   "metadata": {},
   "source": [
    "## Run the commands\n",
    "\n",
    "- pip3 install --upgrade pip\n",
    "- pip3 install --upgrade jupyter matplotlib numpy pandas scipy scikit-learn\n",
    "- jupyter notebook\n",
    "\n",
    "## Visit to below link for data\n",
    "\n",
    "- https://archive.ics.uci.edu/ml/machine-learning-databases/housing/\n",
    "\n",
    "## Download below files from above link\n",
    "\n",
    "- housing.data\n",
    "- houding.names\n"
   ]
  },
  {
   "cell_type": "markdown",
   "id": "961a7d45",
   "metadata": {},
   "source": [
    "## Models \n",
    "\n",
    "### Decision tree:\n",
    "\n",
    "    Mean:  4.618150080285071\n",
    "    Standard deviation :  1.5286947108202538\n",
    "\n",
    "### Linear Regression\n",
    "\n",
    "    Mean:  5.026691729826505\n",
    "    Standard deviation :  1.0559260837947781\n",
    "\n",
    "### Random Forest Regressio\n",
    "    \n",
    "    Mean:  3.317294704549673\n",
    "    Standard deviation :  0.7190966217403666\n",
    "\n"
   ]
  },
  {
   "cell_type": "code",
   "execution_count": null,
   "id": "780c7bd7",
   "metadata": {},
   "outputs": [],
   "source": []
  }
 ],
 "metadata": {
  "kernelspec": {
   "display_name": "Python 3 (ipykernel)",
   "language": "python",
   "name": "python3"
  },
  "language_info": {
   "codemirror_mode": {
    "name": "ipython",
    "version": 3
   },
   "file_extension": ".py",
   "mimetype": "text/x-python",
   "name": "python",
   "nbconvert_exporter": "python",
   "pygments_lexer": "ipython3",
   "version": "3.10.4"
  }
 },
 "nbformat": 4,
 "nbformat_minor": 5
}
